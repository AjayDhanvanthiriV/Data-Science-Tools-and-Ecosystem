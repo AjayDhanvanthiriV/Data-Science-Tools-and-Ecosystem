{
 "cells": [
  {
   "cell_type": "markdown",
   "id": "69d44e12-63e1-4844-abab-a16191913609",
   "metadata": {},
   "source": [
    "# Data Science Tools and Ecosystem"
   ]
  },
  {
   "cell_type": "markdown",
   "id": "1e6f623b-460b-4e4e-b108-459a019a75cd",
   "metadata": {},
   "source": [
    "## In this notebook, Data Science Tools and Ecosystem are summarized."
   ]
  },
  {
   "cell_type": "markdown",
   "id": "fe18073a-7132-4463-97c2-73f0a193e348",
   "metadata": {},
   "source": [
    "## Some of the popular languages that Data Scientists use are:\n",
    "1. Python\n",
    "2. R\n",
    "3. Julia\n",
    "4. Scala"
   ]
  },
  {
   "cell_type": "markdown",
   "id": "de878f26-b265-4edd-897e-3dfdc0fbb49a",
   "metadata": {},
   "source": [
    "**Objectives**\n",
    "\n",
    "- Python\n",
    "- R\n",
    "- SQL\n",
    "- Julia\n",
    "- Scala"
   ]
  },
  {
   "cell_type": "markdown",
   "id": "44cf45e8-aa3e-47bb-a345-8b16d92cbb4c",
   "metadata": {},
   "source": [
    "## Some of the commonly used libraries used by Data Scientists include:\n",
    "\n",
    "1. NumPy\n",
    "2. Pandas\n",
    "3. Matplotlib\n",
    "4. Seaborn\n",
    "5. Scikit-learn\n"
   ]
  },
  {
   "cell_type": "markdown",
   "id": "4357c72a-d58c-4af8-b22e-4bb1483102ae",
   "metadata": {},
   "source": [
    "## Data Science Tools\n",
    "\n",
    "| Tool Name         | Description                                        |\n",
    "|-------------------|----------------------------------------------------|\n",
    "| Jupyter Notebook  | Interactive development environment for Python     |\n",
    "| RStudio           | Integrated development environment for R            |\n",
    "| Anaconda          | Distribution platform that includes Python and R   |\n",
    "| IBM Watson Studio | Integrated environment for data science and AI      |\n",
    "\n"
   ]
  },
  {
   "cell_type": "markdown",
   "id": "fc96d562-7084-4080-8595-83936bedb5f3",
   "metadata": {},
   "source": [
    "### Below are a few examples of evaluating arithmetic expressions in Python\n"
   ]
  },
  {
   "cell_type": "code",
   "execution_count": 1,
   "id": "384381a4-97e1-4d11-87b1-8163e8bbefea",
   "metadata": {},
   "outputs": [
    {
     "data": {
      "text/plain": [
       "17"
      ]
     },
     "execution_count": 1,
     "metadata": {},
     "output_type": "execute_result"
    }
   ],
   "source": [
    "#This a simple arithmetic expression to mutiply then add integers\n",
    "(3*4)+5"
   ]
  },
  {
   "cell_type": "code",
   "execution_count": 2,
   "id": "bb036f8f-dc15-4c73-8869-7e191b99407f",
   "metadata": {},
   "outputs": [
    {
     "data": {
      "text/plain": [
       "0.5555555555555556"
      ]
     },
     "execution_count": 2,
     "metadata": {},
     "output_type": "execute_result"
    }
   ],
   "source": [
    "# Convert 200 minutes to hours and then divide by 6\n",
    "m = 200\n",
    "h = m / 60\n",
    "r = h / 6\n",
    "r\n"
   ]
  },
  {
   "cell_type": "markdown",
   "id": "451a699d-21c0-4867-957c-95ab3558756c",
   "metadata": {},
   "source": [
    "## Author\n",
    "Ajay Dhanvanthiri V"
   ]
  },
  {
   "cell_type": "code",
   "execution_count": null,
   "id": "c336d30f-dfe2-44ac-ba63-0d5f3b01a6fe",
   "metadata": {},
   "outputs": [],
   "source": []
  },
  {
   "cell_type": "code",
   "execution_count": null,
   "id": "5fd5aa34-6a92-47a4-8188-54a192c9907b",
   "metadata": {},
   "outputs": [],
   "source": []
  }
 ],
 "metadata": {
  "kernelspec": {
   "display_name": "Python 3 (ipykernel)",
   "language": "python",
   "name": "python3"
  },
  "language_info": {
   "codemirror_mode": {
    "name": "ipython",
    "version": 3
   },
   "file_extension": ".py",
   "mimetype": "text/x-python",
   "name": "python",
   "nbconvert_exporter": "python",
   "pygments_lexer": "ipython3",
   "version": "3.11.7"
  }
 },
 "nbformat": 4,
 "nbformat_minor": 5
}
